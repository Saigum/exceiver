{
 "cells": [
  {
   "cell_type": "code",
   "execution_count": 1,
   "metadata": {},
   "outputs": [],
   "source": [
    "from exceiver.models import Exceiver, ExceiverClassifier"
   ]
  },
  {
   "cell_type": "code",
   "execution_count": 2,
   "metadata": {},
   "outputs": [
    {
     "name": "stderr",
     "output_type": "stream",
     "text": [
      "Lightning automatically upgraded your loaded checkpoint from v1.6.5 to v2.5.2. To apply the upgrade to your files permanently, run `python -m pytorch_lightning.utilities.upgrade_checkpoint pretrained_models/exceiver/pretrained_TS_exceiver.ckpt`\n",
      "Lightning automatically upgraded your loaded checkpoint from v1.6.5 to v2.5.2. To apply the upgrade to your files permanently, run `python -m pytorch_lightning.utilities.upgrade_checkpoint pretrained_models/exceiver_classifier/pretrained_TS_exceiver_classifier.ckpt`\n"
     ]
    }
   ],
   "source": [
    "model = Exceiver.load_from_checkpoint(\"pretrained_models/exceiver/pretrained_TS_exceiver.ckpt\")\n",
    "model_classifier = ExceiverClassifier.load_from_checkpoint(\"pretrained_models/exceiver_classifier/pretrained_TS_exceiver_classifier.ckpt\")"
   ]
  },
  {
   "cell_type": "code",
   "execution_count": 17,
   "metadata": {},
   "outputs": [],
   "source": [
    "from exceiver.datasets import ExceiverDataModule\n"
   ]
  },
  {
   "cell_type": "code",
   "execution_count": 54,
   "metadata": {},
   "outputs": [
    {
     "name": "stdout",
     "output_type": "stream",
     "text": [
      "n masked genes: 386\n",
      "train_adata shape: (8637, 18626)\n",
      "val_adata shape: (3702, 18626)\n",
      "preparing class labels for subtype\n"
     ]
    },
    {
     "data": {
      "text/plain": [
       "(<exceiver.datasets.ExceiverDataset at 0x7f806afc92b0>,\n",
       " <exceiver.datasets.ExceiverDataset at 0x7f806cc96ad0>)"
      ]
     },
     "execution_count": 54,
     "metadata": {},
     "output_type": "execute_result"
    }
   ],
   "source": [
    "from pathlib import  Path\n",
    "from torch.utils.data import DataLoader, BatchSampler, SequentialSampler\n",
    "\n",
    "data_path = Path(\"/scratch/saigum/exceiver/processed/guo\")\n",
    "dm = ExceiverDataModule(data_path=data_path, classify=\"subtype\", batch_size=64, num_workers=0)\n",
    "dm.prepare_data()\n",
    "dm.setup(stage='fit')\n",
    "dl = DataLoader(val_dataset, batch_size=None, batch_sampler=None, sampler=sampler, num_workers=0, pin_memory=True)\n",
    "gpu = torch.\n",
    "# Load model\n",
    "_ = model.eval()\n",
    "_ = model.to(gpu)\n",
    "\n",
    "\n",
    "emb = []\n",
    "for batch in tqdm(dl):\n",
    "    with torch.no_grad():\n",
    "        batch = [i.to(gpu) if i is not None else i for i in batch]\n",
    "        gene_ids, gene_vals, mask_ids, mask_vals, key_padding_mask, classify = batch\n",
    "        input_query = model.query_emb.repeat(len(gene_ids), 1, 1)\n",
    "        latent, encoder_weights = model.encoder_attn_step(gene_ids, gene_vals, input_query, key_padding_mask)\n",
    "        latent = model.process_self_attn(latent)\n",
    "        emb.append(latent.reshape(batch_size, -1).cpu())\n",
    "\n",
    "# Concatenate and save to disk\n",
    "emb = torch.cat(emb).numpy()\n",
    "joblib.dump(emb, f\"/scratch/saigum/exceiver/emb.joblib\")\n",
    "\n",
    "# Covnvert to AnnData object\n",
    "emb_adata = ad.AnnData(X=emb.copy(), obs=dm.val_adata.obs[:len(emb)], var=pd.DataFrame({\"emb_dim\": np.arange(emb.shape[1])}))\n",
    "\n",
    "# Compute UMAP\n",
    "sc.pp.pca(emb_adata)\n",
    "print(\"Computed PCA.\")\n",
    "sc.pp.neighbors(emb_adata, use_rep=\"X_pca\")\n",
    "print(\"Computed neighborhood graph.\")\n",
    "sc.tl.umap(emb_adata)\n",
    "print(\"Computed UMAP.\")\n",
    "\n",
    "# Save to disk\n",
    "emb_adata.write_h5ad(f\"/scratch/ukhan/ndcn/emb.h5ad\")\n",
    "print(\"Saved AnnData object to disk.\")"
   ]
  },
  {
   "cell_type": "code",
   "execution_count": null,
   "metadata": {},
   "outputs": [],
   "source": []
  },
  {
   "cell_type": "code",
   "execution_count": null,
   "metadata": {},
   "outputs": [
    {
     "name": "stdout",
     "output_type": "stream",
     "text": [
      "Index(['A1BG', 'NAT2', 'ADA', 'CDH2', 'AKT3', 'GAGE12F', 'ZBTB11-AS1', 'MED6',\n",
      "       'NR2E3', 'NAALAD2',\n",
      "       ...\n",
      "       'HNRNPDL', 'DMTF1', 'PPP4R1', 'CDH1', 'SLC12A6', 'PTBP3', 'KCNE2',\n",
      "       'DGCR2', 'CASP8AP2', 'SCO2'],\n",
      "      dtype='object', length=23459)\n"
     ]
    },
    {
     "name": "stderr",
     "output_type": "stream",
     "text": [
      "/scratch/saigum/test/lib/python3.13/site-packages/anndata/_core/anndata.py:1756: UserWarning: Observation names are not unique. To make them unique, call `.obs_names_make_unique`.\n",
      "  utils.warn_names_duplicates(\"obs\")\n"
     ]
    }
   ],
   "source": [
    "import scanpy as sc \n",
    "import pandas as pd\n"
   ]
  },
  {
   "cell_type": "code",
   "execution_count": null,
   "metadata": {},
   "outputs": [],
   "source": [
    "adata = sc.read_csv(\"datasets/Guo/GSE99254.tsv\",delimiter=\"\\t\")\n",
    "print(adata.obs_names)"
   ]
  },
  {
   "cell_type": "code",
   "execution_count": 11,
   "metadata": {},
   "outputs": [],
   "source": [
    "from scipy import sparse as sp\n"
   ]
  },
  {
   "cell_type": "code",
   "execution_count": 28,
   "metadata": {},
   "outputs": [
    {
     "data": {
      "text/html": [
       "<div>\n",
       "<style scoped>\n",
       "    .dataframe tbody tr th:only-of-type {\n",
       "        vertical-align: middle;\n",
       "    }\n",
       "\n",
       "    .dataframe tbody tr th {\n",
       "        vertical-align: top;\n",
       "    }\n",
       "\n",
       "    .dataframe thead th {\n",
       "        text-align: right;\n",
       "    }\n",
       "</style>\n",
       "<table border=\"1\" class=\"dataframe\">\n",
       "  <thead>\n",
       "    <tr style=\"text-align: right;\">\n",
       "      <th></th>\n",
       "    </tr>\n",
       "  </thead>\n",
       "  <tbody>\n",
       "    <tr>\n",
       "      <th>NTH10-0616A</th>\n",
       "    </tr>\n",
       "    <tr>\n",
       "      <th>NTH11-0616A</th>\n",
       "    </tr>\n",
       "    <tr>\n",
       "      <th>NTH15-0616A</th>\n",
       "    </tr>\n",
       "    <tr>\n",
       "      <th>NTH17-0616A</th>\n",
       "    </tr>\n",
       "    <tr>\n",
       "      <th>NTH2-0616A</th>\n",
       "    </tr>\n",
       "    <tr>\n",
       "      <th>...</th>\n",
       "    </tr>\n",
       "    <tr>\n",
       "      <th>TTY63-20171219</th>\n",
       "    </tr>\n",
       "    <tr>\n",
       "      <th>TTY65-20171219</th>\n",
       "    </tr>\n",
       "    <tr>\n",
       "      <th>TTY7-20171219</th>\n",
       "    </tr>\n",
       "    <tr>\n",
       "      <th>TTY8-20171219</th>\n",
       "    </tr>\n",
       "    <tr>\n",
       "      <th>TTY9-20171219</th>\n",
       "    </tr>\n",
       "  </tbody>\n",
       "</table>\n",
       "<p>12346 rows × 0 columns</p>\n",
       "</div>"
      ],
      "text/plain": [
       "Empty DataFrame\n",
       "Columns: []\n",
       "Index: [NTH10-0616A, NTH11-0616A, NTH15-0616A, NTH17-0616A, NTH2-0616A, NTH4-0616A, NTR15-0616A, NTR16-0616A, NTR17-0616A, NTR18-0616A, NTR21-0616A, NTR26-0616A, NTR36-0616A, NTR46-0616A, NTR49-0616A, PTC10-0616A, PTC1-0616A, PTC11-0616A, PTC12-0616A, PTC13-0616A, PTC14-0616A, PTC15-0616A, PTC16-0616A, PTC17-0616A, PTC18-0616A, PTC19-0616A, PTC20-0616A, PTC2-0616A, PTC21-0616A, PTC22-0616A, PTC23-0616A, PTC24-0616A, PTC25-0616A, PTC26-0616A, PTC27-0616A, PTC28-0616A, PTC29-0616A, PTC30-0616A, PTC3-0616A, PTC31-0616A, PTC32-0616A, PTC33-0616A, PTC34-0616A, PTC35-0616A, PTC36-0616A, PTC37-0616A, PTC38-0616A, PTC39-0616A, PTC40-0616A, PTC4-0616A, PTC41-0616A, PTC42-0616A, PTC43-0616A, PTC44-0616A, PTC45-0616A, PTC46-0616A, PTC47-0616A, PTC48-0616A, PTC49-0616A, PTC50-0616A, PTC5-0616A, PTC51-0616A, PTC52-0616A, PTC53-0616A, PTC54-0616A, PTC55-0616A, PTC56-0616A, PTC58-0616A, PTC59-0616A, PTC60-0616A, PTC6-0616A, PTC61-0616A, PTC62-0616A, PTC63-0616A, PTC64-0616A, PTC65-0616A, PTC66-0616A, PTC67-0616A, PTC68-0616A, PTC69-0616A, PTC70-0616A, PTC7-0616A, PTC71-0616A, PTC72-0616A, PTC73-0616A, PTC74-0616A, PTC75-0616A, PTC76-0616A, PTC77-0616A, PTC78-0616A, PTC79-0616A, PTC80-0616A, PTC8-0616A, PTC82-0616A, PTC83-0616A, PTC84-0616A, PTC85-0616A, PTC86-0616A, PTC87-0616A, PTC88-0616A, ...]\n",
       "\n",
       "[12346 rows x 0 columns]"
      ]
     },
     "execution_count": 28,
     "metadata": {},
     "output_type": "execute_result"
    }
   ],
   "source": [
    "adata.obs"
   ]
  },
  {
   "cell_type": "code",
   "execution_count": null,
   "metadata": {},
   "outputs": [],
   "source": [
    "\n"
   ]
  },
  {
   "cell_type": "code",
   "execution_count": null,
   "metadata": {},
   "outputs": [],
   "source": [
    "subtype = subtype.reindex(adata.obs_names)\n",
    "print(subtype)\n",
    "print(len(set(subtype[\"sampleType\"])))\n",
    "print(len(set(subtype[\"majorCluster \"])))"
   ]
  },
  {
   "cell_type": "code",
   "execution_count": 52,
   "metadata": {},
   "outputs": [],
   "source": [
    "adata.write_h5ad(\"datasets/Guo/GSE99254.h5ad\")"
   ]
  },
  {
   "cell_type": "code",
   "execution_count": null,
   "metadata": {},
   "outputs": [],
   "source": [
    "if not sp.issparse(adata.X):\n",
    "    adata.X  = sp.csr_matrix(adata.X)\n",
    "adata.obs_names_make_unique()\n",
    "adata.var_names_make_unique()\n",
    "import pandas as pd\n",
    "from sklearn.preprocessing import LabelEncoder\n",
    "subtype = pd.read_csv(\"/scratch/saigum/exceiver/datasets/Guo/subtype.ann\",delimiter=\"\\t\").set_index(\"UniqueCell_ID \")\n",
    "subtype[\"cluster_no\"] = LabelEncoder().fit_transform(subtype[\"sampleType\"])\n",
    "adata.obs[\"subtype\"] = subtype.loc[adata.obs_names][\"cluster_no\"]\n",
    "adata.write_h5ad(filename=\"datasets/Guo/GSE99254.h5ad\")"
   ]
  },
  {
   "cell_type": "code",
   "execution_count": 16,
   "metadata": {},
   "outputs": [
    {
     "name": "stdout",
     "output_type": "stream",
     "text": [
      "AnnData object with n_obs × n_vars = 12346 × 23459\n",
      "<Compressed Sparse Row sparse matrix of dtype 'float32'\n",
      "\twith 36284370 stored elements and shape (12346, 23459)>\n",
      "  Coords\tValues\n",
      "  (0, 2)\t223.0\n",
      "  (0, 4)\t57.0\n",
      "  (0, 7)\t1.0\n",
      "  (0, 73)\t1.0\n",
      "  (0, 74)\t64.0\n",
      "  (0, 75)\t1.0\n",
      "  (0, 80)\t6.0\n",
      "  (0, 83)\t168.0\n",
      "  (0, 87)\t90.0\n",
      "  (0, 221)\t10.0\n",
      "  (0, 248)\t1.0\n",
      "  (0, 261)\t308.0\n",
      "  (0, 263)\t1.0\n",
      "  (0, 301)\t23.0\n",
      "  (0, 309)\t56.0\n",
      "  (0, 335)\t4.0\n",
      "  (0, 345)\t2.0\n",
      "  (0, 346)\t92.0\n",
      "  (0, 374)\t45.0\n",
      "  (0, 398)\t280.0\n",
      "  (0, 480)\t32.0\n",
      "  (0, 487)\t31.0\n",
      "  (0, 498)\t168.0\n",
      "  (0, 499)\t349.0\n",
      "  (0, 509)\t453.0\n",
      "  :\t:\n",
      "  (12345, 23289)\t55.0\n",
      "  (12345, 23295)\t1.0\n",
      "  (12345, 23310)\t10.0\n",
      "  (12345, 23315)\t1.0\n",
      "  (12345, 23331)\t306.0\n",
      "  (12345, 23337)\t3.0\n",
      "  (12345, 23341)\t17.0\n",
      "  (12345, 23342)\t2.0\n",
      "  (12345, 23349)\t105.0\n",
      "  (12345, 23353)\t87.0\n",
      "  (12345, 23357)\t59.0\n",
      "  (12345, 23371)\t293.0\n",
      "  (12345, 23382)\t337.0\n",
      "  (12345, 23389)\t1.0\n",
      "  (12345, 23390)\t3.0\n",
      "  (12345, 23391)\t692.0\n",
      "  (12345, 23405)\t2.0\n",
      "  (12345, 23406)\t1.0\n",
      "  (12345, 23424)\t13.0\n",
      "  (12345, 23427)\t1361.0\n",
      "  (12345, 23442)\t40.0\n",
      "  (12345, 23443)\t117.0\n",
      "  (12345, 23444)\t130.0\n",
      "  (12345, 23450)\t78.0\n",
      "  (12345, 23456)\t78.0\n"
     ]
    }
   ],
   "source": [
    "fd = sc.read_h5ad(\"datasets/Guo/GSE99254.h5ad\")\n",
    "print(fd)\n",
    "print(fd.X)"
   ]
  }
 ],
 "metadata": {
  "kernelspec": {
   "display_name": "test",
   "language": "python",
   "name": "python3"
  },
  "language_info": {
   "codemirror_mode": {
    "name": "ipython",
    "version": 3
   },
   "file_extension": ".py",
   "mimetype": "text/x-python",
   "name": "python",
   "nbconvert_exporter": "python",
   "pygments_lexer": "ipython3",
   "version": "3.13.3"
  },
  "orig_nbformat": 4
 },
 "nbformat": 4,
 "nbformat_minor": 2
}
