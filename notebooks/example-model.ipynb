{
 "cells": [
  {
   "cell_type": "code",
   "execution_count": null,
   "metadata": {},
   "outputs": [],
   "source": [
    "from exceiver.models import Exceiver, ExceiverClassifier"
   ]
  },
  {
   "cell_type": "code",
   "execution_count": null,
   "metadata": {},
   "outputs": [],
   "source": [
    "model = Exceiver.load_from_checkpoint(\"../pretrained_models/exceiver/pretrained_TS_exceiver.ckpt\")\n",
    "model_classifier = ExceiverClassifier.load_from_checkpoint(\"../pretrained_models/exceiver_classifier/pretrained_TS_exceiver_classifier.ckpt\")"
   ]
  }
 ],
 "metadata": {
  "kernelspec": {
   "display_name": "Python 3.10.6 ('test-exc')",
   "language": "python",
   "name": "python3"
  },
  "language_info": {
   "codemirror_mode": {
    "name": "ipython",
    "version": 3
   },
   "file_extension": ".py",
   "mimetype": "text/x-python",
   "name": "python",
   "nbconvert_exporter": "python",
   "pygments_lexer": "ipython3",
   "version": "3.10.6"
  },
  "orig_nbformat": 4,
  "vscode": {
   "interpreter": {
    "hash": "1751d9f977fab47940e97b954d2c5478337a3e33b9f3b8e36c5ef1d8fcf049e9"
   }
  }
 },
 "nbformat": 4,
 "nbformat_minor": 2
}
